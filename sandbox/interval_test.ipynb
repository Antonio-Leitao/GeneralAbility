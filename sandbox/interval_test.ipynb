{
 "cells": [
  {
   "cell_type": "code",
   "execution_count": 1,
   "metadata": {
    "colab": {},
    "colab_type": "code",
    "id": "d5WBbCe4uYDK"
   },
   "outputs": [],
   "source": [
    "import warnings\n",
    "warnings.filterwarnings(\"ignore\")\n",
    "\n",
    "import numpy as np\n",
    "import pandas as pd\n",
    "\n",
    "from scipy.spatial import distance_matrix\n",
    "from sklearn.preprocessing import StandardScaler\n",
    "from sklearn.model_selection import train_test_split\n",
    "from sklearn.datasets import make_regression\n",
    "from sklearn.neighbors import NearestNeighbors\n",
    "\n",
    "\n",
    "import tensorflow as tf\n",
    "from tensorflow.keras import models\n",
    "from tensorflow.keras import layers\n",
    "import tensorflow.keras.backend as K"
   ]
  },
  {
   "cell_type": "markdown",
   "metadata": {},
   "source": [
    "### Simple Keras Model builder Function"
   ]
  },
  {
   "cell_type": "code",
   "execution_count": 2,
   "metadata": {
    "colab": {},
    "colab_type": "code",
    "id": "1i9zl0Cxu1UF"
   },
   "outputs": [],
   "source": [
    "def keras_model(shape, loss, metrics):\n",
    "    model = models.Sequential()\n",
    "\n",
    "    for layer in shape:\n",
    "        model.add(layers.Dense(layer[0], activation=layer[1]))\n",
    "\n",
    "    model.compile(optimizer='sgd', loss=loss, metrics=metrics)\n",
    "\n",
    "    return model"
   ]
  },
  {
   "cell_type": "markdown",
   "metadata": {
    "colab": {},
    "colab_type": "code",
    "id": "yEp4_mU3ulGV"
   },
   "source": [
    "### Custom Callback: Generalization Score"
   ]
  },
  {
   "cell_type": "code",
   "execution_count": 3,
   "metadata": {},
   "outputs": [],
   "source": [
    "class generalization_score(tf.keras.callbacks.Callback):\n",
    "    def __init__(self, X_train, X_test, y_train, y_test):\n",
    "        super(generalization_score, self).__init__()\n",
    "        \n",
    "        from scipy.spatial import distance_matrix\n",
    "        \n",
    "        self.X_train = X_train\n",
    "        self.X_test = X_test\n",
    "        self.y_train = y_train\n",
    "        self.y_test = y_test\n",
    "        \n",
    "        #self.distance_matrix = tf.dtypes.cast(K.constant(np.add(distance_matrix(np.c_[X_train, y_train], np.c_[X_test, y_test]), 1), name='distance_matrix'), tf.float64)\n",
    "        self.distance_matrix = tf.dtypes.cast(K.constant(np.add(distance_matrix(X_train, X_test), 1), name='distance_matrix'), tf.float64)\n",
    "\n",
    "        \n",
    "\n",
    "    def on_epoch_end(self, epoch, logs={}):\n",
    "        logs['gen_score'] = float('-inf')\n",
    "        logs['test_mae'] = float('-inf')\n",
    "        logs['p_score'] = float(1)\n",
    "\n",
    "\n",
    "        self.y_train_pred = self.model.predict(self.X_train)\n",
    "        self.y_test_pred = self.model.predict(self.X_test)\n",
    "        \n",
    "\n",
    "        errors_difference = K.abs(tf.math.subtract(K.transpose(K.abs(tf.math.subtract(self.y_test, self.y_test_pred))), K.abs(tf.math.subtract(self.y_train, self.y_train_pred))))\n",
    "\n",
    "        errors_by_distance = tf.math.divide(errors_difference, self.distance_matrix, name='division')\n",
    "\n",
    "        p_x = K.mean(K.exp(tf.math.negative(errors_by_distance)), axis=1)\n",
    "\n",
    "        adjusted_error = tf.math.multiply(K.abs(tf.math.subtract(self.y_test, self.y_test_pred)), p_x)\n",
    "        \n",
    "        \n",
    "        gen_score = K.mean(adjusted_error)\n",
    "        p_score = K.mean(p_x)\n",
    "\n",
    "        logs['gen_score'] = np.round(gen_score, 5)\n",
    "        logs['test_mae'] = np.round(K.mean(tf.keras.losses.MAE(self.y_test, self.y_test_pred)), 5)\n",
    "        logs['p_score'] = np.round(p_score, 5)\n"
   ]
  },
  {
   "cell_type": "markdown",
   "metadata": {},
   "source": [
    "### Custom Loss Function: Neirest Neighboor Centroid Based"
   ]
  },
  {
   "cell_type": "code",
   "execution_count": 4,
   "metadata": {
    "colab": {},
    "colab_type": "code",
    "id": "yuFtBDjRunTa"
   },
   "outputs": [],
   "source": [
    "def centroid(points):\n",
    "    centroid = np.empty(points[0].shape)\n",
    "    k = len(points)\n",
    "    for point in points:\n",
    "        centroid += point\n",
    "    return np.divide(centroid,k)\n",
    "\n",
    "\n",
    "from scipy.spatial.distance import euclidean\n",
    "\n",
    "\n",
    "def nn_centroids(x_y):\n",
    "\n",
    "    centroid_list = []\n",
    "    distances_y_centroid = []\n",
    "\n",
    "    k = np.add(x_y.shape[-1], 1)\n",
    "    nbrs = NearestNeighbors(n_neighbors=k, algorithm='auto').fit(x_y)\n",
    "\n",
    "    distances, indices = nbrs.kneighbors(x_y)\n",
    "\n",
    "    for k, index in enumerate(indices):\n",
    "        nn = [x_y[_] for _ in index]\n",
    "\n",
    "        temp = centroid(nn)\n",
    "\n",
    "        centroid_list.append(temp)\n",
    "        distances_y_centroid.append(euclidean(x_y[k], temp))\n",
    "\n",
    "    return np.array(centroid_list), distances_y_centroid, x_y[:,:-1]\n",
    "\n",
    "\n",
    "\n",
    "def centroid_loss(x_y):\n",
    "    centroids, distances_y_centroid, original = nn_centroids(x_y)\n",
    "    def loss(y_true, y_pred):\n",
    "        \n",
    "        y_pred_concat_x = tf.concat([y_pred, original], 1)\n",
    "\n",
    "        distances_pred_centroid = tf.math.reduce_euclidean_norm(tf.math.subtract(y_pred_concat_x, centroids), 1) \n",
    "        \n",
    "        score = tf.math.multiply(K.abs(y_true - y_pred), tf.math.divide(distances_pred_centroid, distances_y_centroid))\n",
    "        \n",
    "\n",
    "        return K.mean(score)\n",
    "\n",
    "    return loss"
   ]
  },
  {
   "cell_type": "markdown",
   "metadata": {},
   "source": [
    "### Benchmarking "
   ]
  },
  {
   "cell_type": "code",
   "execution_count": null,
   "metadata": {
    "colab": {},
    "colab_type": "code",
    "id": "8rt2Ei1busBz",
    "scrolled": true
   },
   "outputs": [
    {
     "name": "stdout",
     "output_type": "stream",
     "text": [
      "20\n",
      "21\n",
      "22\n",
      "23\n",
      "24\n",
      "25\n",
      "26\n",
      "27\n",
      "28\n",
      "29\n",
      "30\n",
      "31\n",
      "32\n",
      "33\n"
     ]
    }
   ],
   "source": [
    "X, y = make_regression(1000, 20)\n",
    "\n",
    "\n",
    "for seed in range(20,40):\n",
    "    \n",
    "    print(seed)\n",
    "    \n",
    "    # Setup:\n",
    "    \n",
    "    X_train, X_test, y_train, y_test = train_test_split(X, y, test_size=.33,\n",
    "                                                                          random_state=seed)\n",
    "\n",
    "    X_train = StandardScaler().fit_transform(X_train)\n",
    "    y_train = StandardScaler().fit_transform(y_train.reshape(-1, 1))\n",
    "\n",
    "    X_test = StandardScaler().fit_transform(X_test)\n",
    "    y_test = StandardScaler().fit_transform(y_test.reshape(-1, 1))\n",
    "\n",
    "    \n",
    "    \n",
    "    model_shape = [[4, 'relu'] * 4, [1, 'linear']]\n",
    "    \n",
    "    \n",
    "    metrics = ['mae']\n",
    "    generalization_callback = generalization_score(X_train, X_test, y_train, y_test)\n",
    "    \n",
    "    batch_size = int(len(X_train)) # Required for the custom loss\n",
    "    \n",
    "    epochs = 2000\n",
    "    \n",
    "    \n",
    "    \n",
    "    \n",
    "    \n",
    "    \n",
    "    \n",
    "    \n",
    "    \n",
    "    # Custom Benchmark:\n",
    "\n",
    "    built_loss = centroid_loss(np.c_[X_train, y_train])\n",
    "\n",
    "    compiled_model = keras_model(model_shape, built_loss, metrics)\n",
    "\n",
    "    history = compiled_model.fit(X_train, y_train,\n",
    "                                      epochs=epochs, batch_size=batch_size, verbose=0,\n",
    "                                      callbacks=[generalization_callback])\n",
    "    \n",
    "    np.save(f\"results/{seed}_custom.npy\", history.history, allow_pickle=True)\n",
    "    \n",
    "\n",
    "    \n",
    "    \n",
    "    # Control Benchmark:\n",
    "    \n",
    "    built_loss = 'mae'\n",
    "\n",
    "    compiled_model = keras_model(model_shape, built_loss, metrics)\n",
    "\n",
    "\n",
    "    history = compiled_model.fit(X_train, y_train,\n",
    "                                      epochs=epochs, batch_size=batch_size, verbose=0,\n",
    "                                      callbacks=[generalization_callback])\n",
    "    \n",
    "    np.save(f\"results/{seed}_control.npy\", history.history, allow_pickle=True)\n",
    "    \n",
    "print('Done!')"
   ]
  },
  {
   "cell_type": "code",
   "execution_count": null,
   "metadata": {},
   "outputs": [],
   "source": []
  },
  {
   "cell_type": "code",
   "execution_count": null,
   "metadata": {},
   "outputs": [],
   "source": []
  }
 ],
 "metadata": {
  "accelerator": "GPU",
  "colab": {
   "name": "interval_test.ipynb",
   "provenance": []
  },
  "kernelspec": {
   "display_name": "Python 3",
   "language": "python",
   "name": "python3"
  },
  "language_info": {
   "codemirror_mode": {
    "name": "ipython",
    "version": 3
   },
   "file_extension": ".py",
   "mimetype": "text/x-python",
   "name": "python",
   "nbconvert_exporter": "python",
   "pygments_lexer": "ipython3",
   "version": "3.7.7"
  }
 },
 "nbformat": 4,
 "nbformat_minor": 4
}
